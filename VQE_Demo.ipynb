{
 "cells": [
  {
   "cell_type": "markdown",
   "metadata": {
    "slideshow": {
     "slide_type": "slide"
    }
   },
   "source": [
    "# VQE Demo: He-H+"
   ]
  },
  {
   "cell_type": "markdown",
   "metadata": {
    "slideshow": {
     "slide_type": "slide"
    }
   },
   "source": [
    "# Setup"
   ]
  },
  {
   "cell_type": "code",
   "execution_count": null,
   "metadata": {
    "scrolled": true,
    "slideshow": {
     "slide_type": "fragment"
    }
   },
   "outputs": [],
   "source": [
    "import Qconfig\n",
    "from qiskit import register\n",
    "\n",
    "token_sum = 0\n",
    "for x in Qconfig.APItoken:\n",
    "    token_sum = int(x, 16) + token_sum\n",
    "\n",
    "if token_sum == 887:\n",
    "    print('ISCA-2018 tutorial APItoken setup: Success')\n",
    "    register(Qconfig.APItoken)\n",
    "else:\n",
    "    print('ISCA-2018 tutorial APItoken setup: Fail')"
   ]
  },
  {
   "cell_type": "markdown",
   "metadata": {},
   "source": [
    "***"
   ]
  },
  {
   "cell_type": "markdown",
   "metadata": {},
   "source": [
    "# Scaffold Code"
   ]
  },
  {
   "cell_type": "markdown",
   "metadata": {
    "slideshow": {
     "slide_type": "slide"
    }
   },
   "source": [
    "<img src=\"VQE_Demo_Files/WholeCircuitStep3.png\">"
   ]
  },
  {
   "cell_type": "code",
   "execution_count": null,
   "metadata": {
    "scrolled": true
   },
   "outputs": [],
   "source": [
    "# Use this cell as your workspace for writing your Scaffold code.\n",
    "# If you get stuck, refer to the section at the end for solutions.\n",
    "scaffold_code = \"\"\"\n",
    "const double alpha0 = 0.0, beta0 = 0.0, gamma0 = 0.0, delta0 = 0.0, epsilon0 = 0.0;\n",
    "const double alpha1 = 0.0, beta1 = 0.0, gamma1 = 0.0, delta1 = 0.0, epsilon1 = 0.0;\n",
    "\n",
    "module initialRotations(qbit reg[2]) {\n",
    "  Rx(reg[0], alpha0);\n",
    "  Rx(reg[1], alpha1);\n",
    "\n",
    "  Rz(reg[0], beta0);\n",
    "  Rz(reg[1], beta1);\n",
    "}\n",
    "\n",
    "module entangler(qbit reg[2]) {\n",
    "  // IMPLEMENT THIS\n",
    "}\n",
    "\n",
    "\n",
    "module finalRotations(qbit reg[2]) {\n",
    "  Rz(reg[0], gamma0);\n",
    "  Rz(reg[1], gamma1);\n",
    "\n",
    "  Rx(reg[0], delta0);\n",
    "  Rx(reg[1], delta1);\n",
    "\n",
    "  Rz(reg[0], epsilon0);\n",
    "  Rz(reg[1], epsilon1);\n",
    "}\n",
    "\n",
    "module prepareAnsatz(qbit reg[2]) {\n",
    "  initialRotations(reg);\n",
    "  entangler(reg);\n",
    "  finalRotations(reg);\n",
    "}\n",
    "\n",
    "module measure(qbit reg[2], cbit result[2]) {\n",
    "  // IMPLEMENT THIS\n",
    "}\n",
    "\n",
    "int main() {\n",
    "  qbit reg[2];\n",
    "  cbit result[2];\n",
    "  \n",
    "  prepareAnsatz(reg);\n",
    "  measure(reg, result);\n",
    "\n",
    "  return 0;\n",
    "}\n",
    "\"\"\""
   ]
  },
  {
   "cell_type": "markdown",
   "metadata": {},
   "source": [
    "***"
   ]
  },
  {
   "cell_type": "markdown",
   "metadata": {},
   "source": [
    "# Executing it!"
   ]
  },
  {
   "cell_type": "code",
   "execution_count": 6,
   "metadata": {
    "scrolled": false,
    "slideshow": {
     "slide_type": "slide"
    }
   },
   "outputs": [
    {
     "name": "stdout",
     "output_type": "stream",
     "text": [
      "OPENQASM 2.0;\n",
      "include \"qelib1.inc\";\n",
      "qreg reg[2];\n",
      "creg result[2];\n",
      "rx(0.000000e+00) reg[0];\n",
      "rx(0.000000e+00) reg[1];\n",
      "rz(0.000000e+00) reg[0];\n",
      "rz(0.000000e+00) reg[1];\n",
      "h reg[0];\n",
      "cx reg[0],reg[1];\n",
      "h reg[1];\n",
      "cx reg[1],reg[0];\n",
      "rz(0.000000e+00) reg[0];\n",
      "rz(0.000000e+00) reg[1];\n",
      "rx(0.000000e+00) reg[0];\n",
      "rx(0.000000e+00) reg[1];\n",
      "rz(0.000000e+00) reg[0];\n",
      "rz(0.000000e+00) reg[1];\n",
      "measure reg[0] -> result[0];\n",
      "measure reg[1] -> result[1];\n",
      "\n",
      "\n"
     ]
    }
   ],
   "source": [
    "# Compile the Scaffold to OpenQASM\n",
    "from scaffcc_interface import ScaffCC\n",
    "openqasm = ScaffCC(scaffold_code).get_openqasm()\n",
    "print(openqasm)"
   ]
  },
  {
   "cell_type": "markdown",
   "metadata": {},
   "source": [
    "### Execute on a Simulator"
   ]
  },
  {
   "cell_type": "code",
   "execution_count": 7,
   "metadata": {
    "scrolled": true,
    "slideshow": {
     "slide_type": "slide"
    }
   },
   "outputs": [
    {
     "data": {
      "image/png": "[encoded data removed]",
      "text/plain": [
       "<matplotlib.figure.Figure at 0x7faa4a529c50>"
      ]
     },
     "metadata": {},
     "output_type": "display_data"
    },
    {
     "name": "stdout",
     "output_type": "stream",
     "text": [
      "Expected value for sigma_z I is : -0.014\n"
     ]
    }
   ],
   "source": [
    "%matplotlib inline\n",
    "from qiskit import load_qasm_string, available_backends, execute, get_backend\n",
    "vqe_circ = load_qasm_string(openqasm)\n",
    "\n",
    "num_shots = 1000\n",
    "result = execute(vqe_circ, backend='local_qasm_simulator', shots=num_shots).result()\n",
    "\n",
    "counts = result.get_counts()\n",
    "from qiskit.tools.visualization import plot_histogram\n",
    "plot_histogram(counts)\n",
    "\n",
    "expected_value = (counts['00'] + counts['01'] - counts['10'] - counts['11']) / num_shots\n",
    "print('Expected value for sigma_z I is : %s' % expected_value)"
   ]
  },
  {
   "cell_type": "markdown",
   "metadata": {
    "slideshow": {
     "slide_type": "fragment"
    }
   },
   "source": [
    "Pick your own angles! Largest expected value ($\\sigma_z I$ has negative coefficient) wins."
   ]
  },
  {
   "cell_type": "markdown",
   "metadata": {},
   "source": [
    "### Execute on a Quantum Computer (if/when it is your turn)"
   ]
  },
  {
   "cell_type": "code",
   "execution_count": null,
   "metadata": {},
   "outputs": [],
   "source": [
    "available_backends()"
   ]
  },
  {
   "cell_type": "code",
   "execution_count": null,
   "metadata": {},
   "outputs": [],
   "source": [
    "num_shots = 1000\n",
    "device = get_backend('ibmqx4')\n",
    "job = execute(vqe_circ, device, shots=num_shots)\n",
    "\n",
    "import time\n",
    "job_poll_interval = 30\n",
    "lapse = 0\n",
    "while not job.done:\n",
    "    try:\n",
    "        print(\"({0} seconds) {1}\".format(lapse * job_poll_interval, job.status['status']), end='')\n",
    "        print(\", your position: {}\".format(job.status['queue_position']), end='')\n",
    "        print(\", jobs in queue: {}\".format(device.status['pending_jobs']))\n",
    "    except:\n",
    "        print('')\n",
    "    time.sleep(job_poll_interval)\n",
    "    lapse += 1\n",
    "\n",
    "device_result = job.result()\n",
    "device_counts = device_result.get_counts()\n",
    "plot_histogram(device_counts)    \n",
    "expected_value = (device_counts['00'] + device_counts['01'] - device_counts['10'] - device_counts['11']) / num_shots\n",
    "print('Expected value for sigma_z I is : %s' % expected_value)"
   ]
  },
  {
   "cell_type": "markdown",
   "metadata": {},
   "source": [
    "***"
   ]
  },
  {
   "cell_type": "markdown",
   "metadata": {},
   "source": [
    "# Solutions (to view, run the cell)"
   ]
  },
  {
   "cell_type": "code",
   "execution_count": 3,
   "metadata": {
    "scrolled": true
   },
   "outputs": [
    {
     "name": "stdout",
     "output_type": "stream",
     "text": [
      "module entangler(qbit reg[2]) {\n",
      "  H(reg[0]);\n",
      "  CNOT(reg[0], reg[1]);\n",
      "  \n",
      "  H(reg[1]);\n",
      "  CNOT(reg[1], reg[0]);\n",
      "}\n",
      "\n"
     ]
    }
   ],
   "source": [
    "# code for entangler( )\n",
    "with open('VQE_Demo_Files/entangler.txt','r') as f:\n",
    "    print(f.read())"
   ]
  },
  {
   "cell_type": "code",
   "execution_count": 2,
   "metadata": {
    "scrolled": true
   },
   "outputs": [
    {
     "name": "stdout",
     "output_type": "stream",
     "text": [
      "module measure(qbit reg[2], cbit result[2]) {\n",
      "  result[0] = MeasZ(reg[0]);\n",
      "  result[1] = MeasZ(reg[1]);\n",
      "}\n",
      "\n"
     ]
    }
   ],
   "source": [
    "# code for measure( )\n",
    "with open('VQE_Demo_Files/measure.txt','r') as f:\n",
    "    print(f.read())"
   ]
  },
  {
   "cell_type": "code",
   "execution_count": 5,
   "metadata": {
    "scrolled": false
   },
   "outputs": [
    {
     "name": "stdout",
     "output_type": "stream",
     "text": [
      "const double alpha0 = 0.0, beta0 = 0.0, gamma0 = 0.0, delta0 = 0.0, epsilon0 = 0.0;\n",
      "const double alpha1 = 0.0, beta1 = 0.0, gamma1 = 0.0, delta1 = 0.0, epsilon1 = 0.0;\n",
      "\n",
      "module initialRotations(qbit reg[2]) {\n",
      "  Rx(reg[0], alpha0);\n",
      "  Rx(reg[1], alpha1);\n",
      "\n",
      "  Rz(reg[0], beta0);\n",
      "  Rz(reg[1], beta1);\n",
      "}\n",
      "\n",
      "module entangler(qbit reg[2]) {\n",
      "  H(reg[0]);\n",
      "  CNOT(reg[0], reg[1]);\n",
      "\n",
      "  H(reg[1]);\n",
      "  CNOT(reg[1], reg[0]);\n",
      "}\n",
      "\n",
      "module finalRotations(qbit reg[2]) {\n",
      "  Rz(reg[0], gamma0);\n",
      "  Rz(reg[1], gamma1);\n",
      "\n",
      "  Rx(reg[0], delta0);\n",
      "  Rx(reg[1], delta1);\n",
      "\n",
      "  Rz(reg[0], epsilon0);\n",
      "  Rz(reg[1], epsilon1);\n",
      "}\n",
      "\n",
      "module prepareAnsatz(qbit reg[2]) {\n",
      "  initialRotations(reg);\n",
      "  entangler(reg);\n",
      "  finalRotations(reg);\n",
      "}\n",
      "\n",
      "module measure(qbit reg[2], cbit result[2]) {\n",
      "  result[0] = MeasZ(reg[0]);\n",
      "  result[1] = MeasZ(reg[1]);\n",
      "}\n",
      "\n",
      "int main() {\n",
      "  qbit reg[2];\n",
      "  cbit result[2];\n",
      "\n",
      "  prepareAnsatz(reg);\n",
      "  measure(reg, result);\n",
      "\n",
      "  return 0;\n",
      "}\n",
      "\n"
     ]
    }
   ],
   "source": [
    "# full solution for scaffold_code\n",
    "with open('VQE_Demo_Files/solution.txt','r') as f:\n",
    "    print(f.read())"
   ]
  },
  {
   "cell_type": "markdown",
   "metadata": {},
   "source": [
    "***"
   ]
  },
  {
   "cell_type": "markdown",
   "metadata": {},
   "source": [
    "# Circuit Visualization [Optional]"
   ]
  },
  {
   "cell_type": "code",
   "execution_count": 8,
   "metadata": {},
   "outputs": [
    {
     "data": {
      "image/png": "[encoded data removed]",
      "text/plain": [
       "<PIL.Image.Image image mode=RGB size=1281x214 at 0x7FAA49B98240>"
      ]
     },
     "execution_count": 8,
     "metadata": {},
     "output_type": "execute_result"
    }
   ],
   "source": [
    "from qiskit.tools.visualization import circuit_drawer\n",
    "circuit_drawer(vqe_circ)"
   ]
  },
  {
   "cell_type": "code",
   "execution_count": null,
   "metadata": {},
   "outputs": [],
   "source": []
  }
 ],
 "metadata": {
  "kernelspec": {
   "display_name": "Python 3",
   "language": "python",
   "name": "python3"
  },
  "language_info": {
   "codemirror_mode": {
    "name": "ipython",
    "version": 3
   },
   "file_extension": ".py",
   "mimetype": "text/x-python",
   "name": "python",
   "nbconvert_exporter": "python",
   "pygments_lexer": "ipython3",
   "version": "3.6.5"
  }
 },
 "nbformat": 4,
 "nbformat_minor": 2
}
